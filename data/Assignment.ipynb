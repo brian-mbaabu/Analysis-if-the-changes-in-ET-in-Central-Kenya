{
 "cells": [
  {
   "cell_type": "markdown",
   "id": "bec155bc-705a-432b-a004-2f598cbe7188",
   "metadata": {},
   "source": []
  },
  {
   "cell_type": "code",
   "execution_count": 5,
   "id": "80323504-9c87-4b95-9107-4b3558687679",
   "metadata": {
    "tags": []
   },
   "outputs": [],
   "source": [
    "#Importing necessary libraries\n",
    "import geopandas as gpd\n",
    "import rioxarray as rio\n",
    "import fiona\n",
    "import cartopy.crs as ccrs\n",
    "\n",
    "import pandas\n",
    "import numpy\n",
    "import matplotlib.pyplot as plt\n",
    "import os"
   ]
  },
  {
   "cell_type": "code",
   "execution_count": 6,
   "id": "98ab1cbe-6358-4a91-bcb9-fb0b55e353c9",
   "metadata": {
    "tags": []
   },
   "outputs": [
    {
     "data": {
      "text/plain": [
       "'C:\\\\Users\\\\bmb001\\\\Desktop\\\\Hydroinformatics track\\\\Digital Innovation for water challenges\\\\Assignment\\\\Individual assignemnt\\\\data'"
      ]
     },
     "execution_count": 6,
     "metadata": {},
     "output_type": "execute_result"
    }
   ],
   "source": [
    "os.getcwd()"
   ]
  },
  {
   "cell_type": "code",
   "execution_count": null,
   "id": "b216435f-9987-4657-9ea9-a3ed932893e3",
   "metadata": {},
   "outputs": [],
   "source": []
  }
 ],
 "metadata": {
  "kernelspec": {
   "display_name": "Python 3 (ipykernel)",
   "language": "python",
   "name": "python3"
  },
  "language_info": {
   "codemirror_mode": {
    "name": "ipython",
    "version": 3
   },
   "file_extension": ".py",
   "mimetype": "text/x-python",
   "name": "python",
   "nbconvert_exporter": "python",
   "pygments_lexer": "ipython3",
   "version": "3.11.5"
  }
 },
 "nbformat": 4,
 "nbformat_minor": 5
}
